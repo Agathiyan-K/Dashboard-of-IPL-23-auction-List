{
  "cells": [
    {
      "cell_type": "markdown",
      "source": [
        "Subject:\n",
        "Data Exploration & Visualization using Python II\n",
        "Term 2 – Project\n",
        "\n",
        "Submitted by:\n",
        "Agathiyan K                                                        \n",
        "045005\n",
        "\n",
        "Submitted to:\n",
        "Prof. Amarnath Mitra\n",
        "\n",
        "\n",
        "\n",
        "About the Dataset:\n",
        "\n",
        "  The dataset represents the player auction list for IPL 2023, providing essential details about available cricket players. It is designed to assist team managers and selectors in making informed decisions during the auction. The dataset includes key attributes such as player name, age, country, state association, playing specialization, right/left-handed preference, reserve price, and caps earned in different formats (Test, ODI, T20, IPL). This information serves as a valuable resource for building competitive and well-balanced teams for the upcoming IPL season.\n",
        "\n",
        "\n",
        "Aim:\n",
        "\tTo assist Managers and team selectors of the IPL teams in deciding which player to buy in the auction.\n",
        "\n",
        "  \n",
        "\n",
        "Key Attributes in the Dataset:\n",
        "\n",
        "The dataset encompasses crucial player attributes, including:\n",
        "\n",
        "•\tName: Player's name.\n",
        "\n",
        "•\tAge: Player's age.\n",
        "\n",
        "•\tAge Group: Player’s age are classified into Youngster, Junior, Senior, and SuperSenior.\n",
        "\n",
        "•\tCountry: Player's country of origin.\n",
        "\n",
        "•\tState Association: Associated state cricket association.\n",
        "\n",
        "•\tSpecialism: Player's playing specialization (e.g., batsman, all-rounder).\n",
        "\n",
        "•\tR/L (Right/Left-Handed): Indicates if the player is right-handed (RHB) or left-handed (LHB).\n",
        "\n",
        "•\tReserve Price Rs Lakh: Initial bidding price in Indian Rupees (Lakh).\n",
        "\n",
        "•\tTest caps, ODI caps, T20 caps, IPL: Number of caps earned in each format.\n"
      ],
      "metadata": {
        "id": "aCDzyUYJXI1C"
      }
    },
    {
      "cell_type": "markdown",
      "source": [
        "----------------------------------------------------------------------------\n",
        "============================================================================"
      ],
      "metadata": {
        "id": "njcDAS0TXRBH"
      }
    },
    {
      "cell_type": "markdown",
      "source": [
        "Report\n",
        "\n",
        "Aim:\n",
        "\tTo assist Managers and team selectors of the IPL teams in deciding which player to buy in the auction.\n",
        "\n",
        "Criteria Used:\n",
        "\tI have referred to the actual auction list of 2023. The variables used provided in the auction list are the players' name and their country. If Indian, then their state code, their date of birth, their specialism, left or right handed, their test, ODI, T20, and IPL appearances (caps), and their reserve price (in Lakh). I used the DOB to create a new column named age and segregated age into 4 categories. The range is from less than 21 years, 22 to 26 years, 27 to 33 years, and more than 33 years; These ranges are named Youngster, Junior, Senior, and SuperSenior respectively.\n",
        "\n",
        "About the Dashboard:\n",
        "\tThe dashboard comprises 6 charts that provide different insights. Each chart uses a different variable. The dashboard consists of a treemap Chart, two Sunburst charts, a bubble Chart, and a vertical and horizontal bar chart. All these are interactive and have a drop box or a checklist option to assist further. Each chart in the dashboard represents:\n",
        "\n",
        "Treemap Chart –\n",
        "\tTitle: “Specialism vs Country Origin (excluding India) or State Association of Indians”\n",
        "\tVariable Used: Country or State Association (based on dropdown selection), Specialism, and the player name.\n",
        "\tObservation: This chart displays the distribution of players based on their specialism (BATSMAN, ALL-ROUNDER, WICKETKEEPER, BOWLER) and either country of origin or state association (depending on the dropdown selection). The size of each block represents the number of players in each category. It provides a visual overview of how players are distributed across specialisms and regions.\n",
        "\n",
        "1st Sunburst Chart –\n",
        "\tTitle: “Age Group vs Country Origin (excluding India) or State Association of Indians”\n",
        "\tVariable Used: Country or State Association (based on dropdown selection), Age Group, and the player name.\n",
        "\tObservation: The sunburst chart visualizes the age group-wise distribution of players, further broken down by country or state association and individual player names. The chart color codes the state association, providing insights into the composition of players from different regions. It helps in understanding the age group-wise and region-wise distribution of players.\n",
        "\n",
        "\n",
        "Bubble Chart –\n",
        "\tTitle: “Age vs {Test/ODI/T20/IPL caps}”\n",
        "\tVariable Used: Country or State Association (based on dropdown selection), Test or ODI or T20 or IPL Caps (based on dropdown selection), player name and their cap number.\n",
        "\tNote: Dynamic option to select the county.\n",
        "\tObservation: This chart illustrates the relationship between the age of players, the selected caps category (Test, ODI, T20, IPL), and the number of (Test, ODI, T20, IPL) caps they have. Each bubble represents a player, and the size of the bubble corresponds to the number of (Test, ODI, T20, IPL) caps. The color represents the country of the player, providing a quick comparison of player demographics. In this bubble chart, when Indian players are selected, it is observed that most of the players in the auction got 0 (Test, ODI, T20, IPL) caps. This implies that Indians in the 2023 Auction list are very less experienced players.\n",
        "\n",
        "\n",
        "Vertical Bar Chart –\n",
        "\tTitle: “To display Player/s on the selected Reserve Price, with caps as the differentiation factor”\n",
        "\tVariable Used: Reserved base price (Checkbox), Specialism (Checkbox), Country (Checkbox), player name, and their cap numbers.\n",
        "\tObservation: The vertical bar chart showcases the number of Test, ODI, T20, and IPL caps for selected Reserve Prices. It allows for a direct comparison of the caps earned by different players across these categories. The chart provides a detailed availability of the players in each reserve base price and give further analysis among the players in terms of the (Test, ODI, T20, IPL) caps.\n",
        "\n",
        "\n",
        "2nd Sunburst Chart –\n",
        "\tTitle: “To view Players who are uncapped and never played IPL\"\n",
        "\tVariable Used: Country, State Association, and the player name\n",
        "\tNote: Here, a filter is applied to segregate the player. The filtered rows are uncapped players with 0 IPL appearance.\n",
        "\tObservation: Similar to the first sunburst chart, this one displays the distribution of players, but the breakdown is based on country, state association, and individual player names. The color coding represents the state association, providing insights into the composition of players from different regions. This chart is focused on the player distribution across countries and state associations who never played any international matches as well as not yet debuted in IPL.\n",
        "\n",
        "\n",
        "Horizontal Bar Chart –\n",
        "\tTitle: “To view Players based Right / Left handed, with country, age group and specialism as a differentiation factor”\n",
        "\tVariable Used: Country (Checkbox), Right/Left Handed (Checkbox), Specialism (Checkbox), Age group and the player name.\n",
        "\tObservation: The horizontal bar chart categorizes players by their age group and further breaks them down by right-handed (RHB) or left-handed (LHB) and country. Each bar represents a player, and the color coding signifies the country. The chart is useful for analyzing the age group-wise distribution of players based on their batting style and country.\n",
        "\n",
        "\n",
        "Benefits of this Dashboard:\n",
        "\n",
        "•\tStrategic Player Recruitment: Team management can use the dashboard to strategically recruit players based on specific requirements, such as specialism, age group, country of origin, and their appearances in Test, ODI, T20, and IPL.\n",
        "\n",
        "•\tPerformance Evaluation: The charts on caps distribution (vertical bar chart and bubble chart) offer insights into players' performance across different formats (Test, ODI, T20, and IPL). Teams can evaluate players' performance in specific formats to make informed decisions on team composition.\n",
        "\n",
        "•\tDemographic Distribution: The geographic distribution of players (treemap chart and sunburst charts) helps teams understand the demographic composition of their squad. Teams can identify regions contributing the most players and plan strategies for engaging with fans from those regions. Also in IPL, as the number of foreign players is limited to 8, these charts are helpful in evaluating and bidding for the international players.\n",
        "\n",
        "•\tAge Group Dynamics: The age group-wise distribution (sunburst charts and horizontal bar charts) aids in understanding the team's age dynamics. Teams can assess the balance between experienced players and younger talents, ensuring a sustainable team structure. It will also help them to give opportunities to young players and easy to identify them during the auction.\n",
        "\n",
        "•\tBidding Strategy: The reserve price and specialism slicers (horizontal bar chart) provide insights into players' value based on their specialism, age group, and reserve price. Teams can formulate effective bidding strategies during auctions, considering the specific characteristics of players.\n",
        "\n",
        "Managerial Insights:\n",
        "\n",
        "•\tIdentify the most prominent specialisms and their distribution across countries or state associations. Plan team composition based on the availability of players with diverse specialisms.\n",
        "\n",
        "•\tAssess the age group-wise composition of players and their distribution in different regions. Plan for player development strategies based on age groups and regions.\n",
        "\n",
        "•\tEvaluate the correlation between player age and the number of caps of the selected caps category. Identify standout players based on their age and Test, ODI, T20, and IPL performance for strategic team selection. Analyze the distribution of Test, ODI, T20, and IPL caps among selected players.\n",
        "\n",
        "•\tThe selector can identify players with extensive experience in specific formats for leadership roles. It helps in assisting selectors and team managers in the financial planning and decision-making process during player auctions.\n",
        "\n",
        "•\tIts primary purpose is to identify players falling within a specified budget range, providing insights into the distribution of players based on their reserve prices. Selectors can strategically allocate budget limits for different player categories, balancing experience, and potential impact.\n",
        "\n",
        "•\tIt also helps in identifying players within specific budget ranges and allows teams to formulate strategic bidding plans. Teams can decide in advance how aggressively or conservatively they want to pursue players in different price brackets.\n",
        "\n",
        "•\tSelectors can analyze the correlation between a player's experience (as reflected in reserve prices) and their perceived value to the team. This analysis assists in making informed decisions about how much to invest in experienced players compared to emerging talents.\n",
        "\n",
        "•\tBy strategically planning and identifying players within budget constraints, teams can mitigate financial risks and avoid overspending on individual players.\n",
        "\n",
        "•\tUnderstand the distribution of players across countries and state associations. Plan marketing and engagement strategies targeting specific regions.\n",
        "\n",
        "•\tAnother advantage is to identify and showcase players who have not had the opportunity to play at the International level and have never participated in the Indian Premier League (IPL).\n",
        "\n",
        "•\tThis aims to bring attention to talented individuals who, despite their skills, have not been given the chance to showcase their abilities on the global and lucrative IPL platforms. This insight is crucial for providing chances to deserving players and nurturing a diverse talent pool.\n",
        "\n",
        "•\tThe chart may reveal senior and supersenior players who have not had the chance to play internationally or in the IPL. Teams can assess the experience and skills of these players, potentially bringing in valuable leadership and experience.\n",
        "\n",
        "•\tThis also serves as a basis for initiating development programs and academies in regions where there is a concentration of untapped talent. Teams can collaborate with cricket boards to nurture and mentor players who have the potential to make a significant impact.\n",
        "\n",
        "•\tAnalyze the age group-wise distribution of players based on their batting style and country.\n",
        "\n",
        "•\tPlan for a balanced team composition considering both age diversity and batting styles. Achieving a balanced mix of left and right-handed batsmen in the team is often considered strategically advantageous. For example, if the opposition has a strong right-arm bowler, having left-handed batsmen may provide a tactical advantage.\n",
        "\n",
        "•\tBowling lineups can be tailored based on the prevalence of left or right-handed batsmen in the opposing team. Certain bowlers may be more effective against left-handed or right-handed batsmen, and this chart aids in strategic bowling selections.\n",
        "\n",
        "•\tSelectors can also consider the age groups of left and right-handed players, ensuring a blend of experience and youth in the team.\n",
        "\n",
        "Conclusion:\n",
        "\tThe dashboard provides comprehensive insights into player statistics, aiding cricket selectors in strategic decision-making for team composition. It allows for the visualization of player data based on various criteria, facilitating informed choices during player selection processes. The combination of different charts provides a holistic view of player demographics, appearances, age, and potential, assisting in building well-balanced and competitive IPL teams.\n"
      ],
      "metadata": {
        "id": "XddYDGM4XZBC"
      }
    },
    {
      "cell_type": "code",
      "source": [
        "'''\n",
        "Source for the code:\n",
        "1. ChatGPT\n",
        "2. https://www.youtube.com/watch?v=ZZsyxIWdCko\n",
        "'''"
      ],
      "metadata": {
        "id": "qK7i6wuQWXjS",
        "colab": {
          "base_uri": "https://localhost:8080/",
          "height": 36
        },
        "outputId": "43afe119-5bc6-4f89-814f-83f68a6e01cd"
      },
      "execution_count": 1,
      "outputs": [
        {
          "output_type": "execute_result",
          "data": {
            "text/plain": [
              "'\\nSource for the code:\\n1. ChatGPT\\n2. https://www.youtube.com/watch?v=ZZsyxIWdCko\\n'"
            ],
            "application/vnd.google.colaboratory.intrinsic+json": {
              "type": "string"
            }
          },
          "metadata": {},
          "execution_count": 1
        }
      ]
    },
    {
      "cell_type": "code",
      "execution_count": 2,
      "metadata": {
        "id": "ROTMa91Y59_S",
        "colab": {
          "base_uri": "https://localhost:8080/"
        },
        "outputId": "3083a4ee-1967-4854-b019-996e340733ba"
      },
      "outputs": [
        {
          "output_type": "stream",
          "name": "stdout",
          "text": [
            "\u001b[2K     \u001b[90m━━━━━━━━━━━━━━━━━━━━━━━━━━━━━━━━━━━━━━━━\u001b[0m \u001b[32m8.4/8.4 MB\u001b[0m \u001b[31m21.2 MB/s\u001b[0m eta \u001b[36m0:00:00\u001b[0m\n",
            "\u001b[2K     \u001b[90m━━━━━━━━━━━━━━━━━━━━━━━━━━━━━━━━━━━━━━━━\u001b[0m \u001b[32m196.4/196.4 kB\u001b[0m \u001b[31m28.0 MB/s\u001b[0m eta \u001b[36m0:00:00\u001b[0m\n",
            "\u001b[2K     \u001b[90m━━━━━━━━━━━━━━━━━━━━━━━━━━━━━━━━━━━━━━━━\u001b[0m \u001b[32m4.8/4.8 MB\u001b[0m \u001b[31m76.8 MB/s\u001b[0m eta \u001b[36m0:00:00\u001b[0m\n",
            "\u001b[2K     \u001b[90m━━━━━━━━━━━━━━━━━━━━━━━━━━━━━━━━━━━━━━━━\u001b[0m \u001b[32m82.1/82.1 kB\u001b[0m \u001b[31m10.3 MB/s\u001b[0m eta \u001b[36m0:00:00\u001b[0m\n",
            "\u001b[2K     \u001b[90m━━━━━━━━━━━━━━━━━━━━━━━━━━━━━━━━━━━━━━━━\u001b[0m \u001b[32m62.7/62.7 kB\u001b[0m \u001b[31m9.0 MB/s\u001b[0m eta \u001b[36m0:00:00\u001b[0m\n",
            "\u001b[?25h"
          ]
        }
      ],
      "source": [
        "! pip install streamlit -q"
      ]
    },
    {
      "cell_type": "code",
      "source": [
        "!pip install plotly\n",
        "# Install necessary libraries\n",
        "!pip install plotly dash"
      ],
      "metadata": {
        "colab": {
          "base_uri": "https://localhost:8080/"
        },
        "id": "Sxp9LG4QKNyL",
        "outputId": "7c26ce0d-5a6f-4e9f-abc3-614a5f69c51e"
      },
      "execution_count": 3,
      "outputs": [
        {
          "output_type": "stream",
          "name": "stdout",
          "text": [
            "Requirement already satisfied: plotly in /usr/local/lib/python3.10/dist-packages (5.15.0)\n",
            "Requirement already satisfied: tenacity>=6.2.0 in /usr/local/lib/python3.10/dist-packages (from plotly) (8.2.3)\n",
            "Requirement already satisfied: packaging in /usr/local/lib/python3.10/dist-packages (from plotly) (23.2)\n",
            "Requirement already satisfied: plotly in /usr/local/lib/python3.10/dist-packages (5.15.0)\n",
            "Collecting dash\n",
            "  Downloading dash-2.14.2-py3-none-any.whl (10.2 MB)\n",
            "\u001b[2K     \u001b[90m━━━━━━━━━━━━━━━━━━━━━━━━━━━━━━━━━━━━━━━━\u001b[0m \u001b[32m10.2/10.2 MB\u001b[0m \u001b[31m27.4 MB/s\u001b[0m eta \u001b[36m0:00:00\u001b[0m\n",
            "\u001b[?25hRequirement already satisfied: tenacity>=6.2.0 in /usr/local/lib/python3.10/dist-packages (from plotly) (8.2.3)\n",
            "Requirement already satisfied: packaging in /usr/local/lib/python3.10/dist-packages (from plotly) (23.2)\n",
            "Requirement already satisfied: Flask<3.1,>=1.0.4 in /usr/local/lib/python3.10/dist-packages (from dash) (2.2.5)\n",
            "Requirement already satisfied: Werkzeug<3.1 in /usr/local/lib/python3.10/dist-packages (from dash) (3.0.1)\n",
            "Collecting dash-html-components==2.0.0 (from dash)\n",
            "  Downloading dash_html_components-2.0.0-py3-none-any.whl (4.1 kB)\n",
            "Collecting dash-core-components==2.0.0 (from dash)\n",
            "  Downloading dash_core_components-2.0.0-py3-none-any.whl (3.8 kB)\n",
            "Collecting dash-table==5.0.0 (from dash)\n",
            "  Downloading dash_table-5.0.0-py3-none-any.whl (3.9 kB)\n",
            "Requirement already satisfied: typing-extensions>=4.1.1 in /usr/local/lib/python3.10/dist-packages (from dash) (4.5.0)\n",
            "Requirement already satisfied: requests in /usr/local/lib/python3.10/dist-packages (from dash) (2.31.0)\n",
            "Collecting retrying (from dash)\n",
            "  Downloading retrying-1.3.4-py3-none-any.whl (11 kB)\n",
            "Collecting ansi2html (from dash)\n",
            "  Downloading ansi2html-1.9.1-py3-none-any.whl (17 kB)\n",
            "Requirement already satisfied: nest-asyncio in /usr/local/lib/python3.10/dist-packages (from dash) (1.5.8)\n",
            "Requirement already satisfied: setuptools in /usr/local/lib/python3.10/dist-packages (from dash) (67.7.2)\n",
            "Requirement already satisfied: importlib-metadata in /usr/local/lib/python3.10/dist-packages (from dash) (7.0.1)\n",
            "Requirement already satisfied: Jinja2>=3.0 in /usr/local/lib/python3.10/dist-packages (from Flask<3.1,>=1.0.4->dash) (3.1.2)\n",
            "Requirement already satisfied: itsdangerous>=2.0 in /usr/local/lib/python3.10/dist-packages (from Flask<3.1,>=1.0.4->dash) (2.1.2)\n",
            "Requirement already satisfied: click>=8.0 in /usr/local/lib/python3.10/dist-packages (from Flask<3.1,>=1.0.4->dash) (8.1.7)\n",
            "Requirement already satisfied: MarkupSafe>=2.1.1 in /usr/local/lib/python3.10/dist-packages (from Werkzeug<3.1->dash) (2.1.3)\n",
            "Requirement already satisfied: zipp>=0.5 in /usr/local/lib/python3.10/dist-packages (from importlib-metadata->dash) (3.17.0)\n",
            "Requirement already satisfied: charset-normalizer<4,>=2 in /usr/local/lib/python3.10/dist-packages (from requests->dash) (3.3.2)\n",
            "Requirement already satisfied: idna<4,>=2.5 in /usr/local/lib/python3.10/dist-packages (from requests->dash) (3.6)\n",
            "Requirement already satisfied: urllib3<3,>=1.21.1 in /usr/local/lib/python3.10/dist-packages (from requests->dash) (2.0.7)\n",
            "Requirement already satisfied: certifi>=2017.4.17 in /usr/local/lib/python3.10/dist-packages (from requests->dash) (2023.11.17)\n",
            "Requirement already satisfied: six>=1.7.0 in /usr/local/lib/python3.10/dist-packages (from retrying->dash) (1.16.0)\n",
            "Installing collected packages: dash-table, dash-html-components, dash-core-components, retrying, ansi2html, dash\n",
            "Successfully installed ansi2html-1.9.1 dash-2.14.2 dash-core-components-2.0.0 dash-html-components-2.0.0 dash-table-5.0.0 retrying-1.3.4\n"
          ]
        }
      ]
    },
    {
      "cell_type": "code",
      "execution_count": 4,
      "metadata": {
        "colab": {
          "base_uri": "https://localhost:8080/"
        },
        "id": "ntgPIX0K5_yQ",
        "outputId": "0971c5f1-777e-4b2b-abfb-c1c3ed6fbc32"
      },
      "outputs": [
        {
          "output_type": "stream",
          "name": "stdout",
          "text": [
            "35.222.102.148\n"
          ]
        }
      ],
      "source": [
        "!wget -q -O - ipv4.icanhazip.com"
      ]
    },
    {
      "cell_type": "code",
      "execution_count": null,
      "metadata": {
        "colab": {
          "base_uri": "https://localhost:8080/"
        },
        "id": "94YIHVcn6Kjp",
        "outputId": "9089bf75-89d2-430d-9299-5386b5d31b76"
      },
      "outputs": [
        {
          "output_type": "stream",
          "name": "stdout",
          "text": [
            "\n",
            "Collecting usage statistics. To deactivate, set browser.gatherUsageStats to False.\n",
            "\u001b[0m\n",
            "\u001b[0m\n",
            "\u001b[34m\u001b[1m  You can now view your Streamlit app in your browser.\u001b[0m\n",
            "\u001b[0m\n",
            "\u001b[34m  Network URL: \u001b[0m\u001b[1mhttp://172.28.0.12:8501\u001b[0m\n",
            "\u001b[34m  External URL: \u001b[0m\u001b[1mhttp://35.222.102.148:8501\u001b[0m\n",
            "\u001b[0m\n",
            "\u001b[K\u001b[?25hnpx: installed 22 in 3.863s\n",
            "your url is: https://three-ghosts-pull.loca.lt\n"
          ]
        }
      ],
      "source": [
        "! streamlit run app.py & npx localtunnel --port 8501"
      ]
    }
  ],
  "metadata": {
    "colab": {
      "provenance": []
    },
    "kernelspec": {
      "display_name": "Python 3",
      "name": "python3"
    },
    "language_info": {
      "name": "python"
    }
  },
  "nbformat": 4,
  "nbformat_minor": 0
}